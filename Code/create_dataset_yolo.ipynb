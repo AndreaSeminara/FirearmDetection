{
 "cells": [
  {
   "cell_type": "code",
   "execution_count": null,
   "metadata": {},
   "outputs": [],
   "source": [
    "%pip install -r ../requirements.txt --break-system-packages"
   ]
  },
  {
   "cell_type": "code",
   "execution_count": null,
   "metadata": {},
   "outputs": [],
   "source": [
    "import os\n",
    "\n",
    "HOME = os.getcwd()\n",
    "\n",
    "if \"Dataset\" not in os.listdir(HOME):\n",
    "  try:\n",
    "    os.mkdir(HOME + \"/Dataset\")\n",
    "  except FileExistsError:\n",
    "    pass"
   ]
  },
  {
   "cell_type": "code",
   "execution_count": null,
   "metadata": {},
   "outputs": [],
   "source": [
    "Dataset = HOME + \"/Dataset\"\n",
    "\n",
    "if \"Images\" not in os.listdir(Dataset):\n",
    "  try:\n",
    "    os.mkdir(Dataset + \"/yolo\")\n",
    "  except FileExistsError:\n",
    "    pass\n",
    "\n",
    "images_folder = Dataset + \"/yolo\""
   ]
  },
  {
   "cell_type": "code",
   "execution_count": null,
   "metadata": {},
   "outputs": [],
   "source": [
    "from dotenv import load_dotenv\n",
    "\n",
    "load_dotenv()\n",
    "\n",
    "roboflow_api_key = os.getenv(\"ROBOFLOW_API_KEY\")"
   ]
  },
  {
   "cell_type": "code",
   "execution_count": null,
   "metadata": {},
   "outputs": [],
   "source": [
    "from roboflow import Roboflow\n",
    "\n",
    "os.chdir(images_folder)\n",
    "from roboflow import Roboflow\n",
    "rf = Roboflow(api_key=roboflow_api_key)\n",
    "project = rf.workspace(\"xian-douglas\").project(\"weapondetection-xx3lz\")\n",
    "version = project.version(5)\n",
    "dataset = version.download(\"yolov11\")\n",
    "\n"
   ]
  },
  {
   "cell_type": "code",
   "execution_count": null,
   "metadata": {},
   "outputs": [],
   "source": [
    "import shutil\n",
    "\n",
    "if \"WeaponDetection-5\" in os.listdir(images_folder) and \"train\" in os.listdir(images_folder+\"/WeaponDetection-5\") and \"valid\" in os.listdir(images_folder+\"/WeaponDetection-5\"):\n",
    "  shutil.move(images_folder + \"/WeaponDetection-5/train\", images_folder)\n",
    "  shutil.move(images_folder + \"/WeaponDetection-5/valid\", images_folder)\n",
    "  shutil.move(images_folder + \"/WeaponDetection-5/data.yaml\", images_folder)\n",
    "  shutil.rmtree(images_folder + \"/WeaponDetection-5/test\")\n",
    "  shutil.rmtree(images_folder + \"/WeaponDetection-5\")\n",
    "  \n",
    "  import shutil\n",
    "\n",
    "\n",
    "\n"
   ]
  }
 ],
 "metadata": {
  "kernelspec": {
   "display_name": "Python 3",
   "language": "python",
   "name": "python3"
  },
  "language_info": {
   "codemirror_mode": {
    "name": "ipython",
    "version": 3
   },
   "file_extension": ".py",
   "mimetype": "text/x-python",
   "name": "python",
   "nbconvert_exporter": "python",
   "pygments_lexer": "ipython3",
   "version": "3.12.9"
  }
 },
 "nbformat": 4,
 "nbformat_minor": 2
}
