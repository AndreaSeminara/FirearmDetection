{
 "cells": [
  {
   "cell_type": "code",
   "execution_count": null,
   "metadata": {},
   "outputs": [],
   "source": [
    "import os\n",
    "from ultralytics import YOLO\n",
    "import torch\n",
    "\n",
    "class YOLOTrainer:\n",
    "    def __init__(self, base_path):\n",
    "        self.base_path = os.path.abspath(base_path) \n",
    "        self.output_path = os.path.join(self.base_path, 'yolo_dataset')\n",
    "    \n",
    "    def train(self, epochs=100, batch_size=4, image_size=640):\n",
    "        \n",
    "        yaml_path = self.base_path + \"/data.yaml\"\n",
    "        \n",
    "        print(\"Inizializzazione modello YOLO...\") \n",
    "        model = YOLO(\"yolo11n.pt\")        \n",
    "        print(\"Avvio training...\")\n",
    "        results = model.train(\n",
    "            data=yaml_path,\n",
    "            epochs=epochs,\n",
    "            imgsz=image_size,\n",
    "            batch=batch_size,\n",
    "            device='cuda' if torch.cuda.is_available() else 'cpu',\n",
    "            patience=20,\n",
    "            save=True,\n",
    "            verbose=True,\n",
    "            augment=True,\n",
    "            degrees=10.0,\n",
    "            translate=0.1,\n",
    "            scale=0.5,\n",
    "            fliplr=0.5,\n",
    "            mosaic=1.0,\n",
    "            lr0=0.01,\n",
    "            lrf=0.01,\n",
    "            momentum=0.9,\n",
    "            weight_decay=0.0005,\n",
    "            warmup_epochs=3,\n",
    "            warmup_momentum=0.8,\n",
    "            warmup_bias_lr=0.1\n",
    "        )\n",
    "        \n",
    "        return model, results"
   ]
  },
  {
   "cell_type": "code",
   "execution_count": null,
   "metadata": {},
   "outputs": [],
   "source": [
    "base_path = 'Dataset/yolo'\n",
    "\n",
    "trainer = YOLOTrainer(base_path)\n",
    "model, results = trainer.train(epochs=100)\n",
    "\n",
    "model.val()\n",
    "\n"
   ]
  }
 ],
 "metadata": {
  "kernelspec": {
   "display_name": "Python 3",
   "language": "python",
   "name": "python3"
  },
  "language_info": {
   "codemirror_mode": {
    "name": "ipython",
    "version": 3
   },
   "file_extension": ".py",
   "mimetype": "text/x-python",
   "name": "python",
   "nbconvert_exporter": "python",
   "pygments_lexer": "ipython3",
   "version": "3.12.9"
  }
 },
 "nbformat": 4,
 "nbformat_minor": 2
}
