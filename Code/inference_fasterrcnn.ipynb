{
 "cells": [
  {
   "cell_type": "code",
   "execution_count": null,
   "metadata": {},
   "outputs": [],
   "source": [
    "import torch\n",
    "from torchvision.models.detection import fasterrcnn_resnet50_fpn\n",
    "from torchvision.models.detection.faster_rcnn import FastRCNNPredictor\n",
    "import os\n",
    "\n",
    "device = torch.device('cuda' if torch.cuda.is_available() else 'cpu')\n",
    "\n",
    "model = fasterrcnn_resnet50_fpn(weights=None)\n",
    "in_features = model.roi_heads.box_predictor.cls_score.in_features\n",
    "model.roi_heads.box_predictor = FastRCNNPredictor(in_features, num_classes=2)\n",
    "\n",
    "model_path = '../Models/best_model_fasterrcnn.pth'\n",
    "model.load_state_dict(torch.load(model_path, map_location=device))\n",
    "model.to(device)\n",
    "model.eval()"
   ]
  },
  {
   "cell_type": "code",
   "execution_count": 2,
   "metadata": {},
   "outputs": [],
   "source": [
    "import torchvision\n",
    "\n",
    "def apply_nms(boxes, scores, iou_threshold=0.5):\n",
    "    keep_indices = torchvision.ops.nms(boxes, scores, iou_threshold)\n",
    "    return keep_indices.cpu().numpy()"
   ]
  },
  {
   "cell_type": "code",
   "execution_count": 3,
   "metadata": {},
   "outputs": [],
   "source": [
    "import torchvision.transforms as T\n",
    "from PIL import Image, ImageDraw\n",
    "\n",
    "def load_image(image_path):\n",
    "    image = Image.open(image_path).convert(\"RGB\")\n",
    "    transform = T.Compose([T.ToTensor(), T.Normalize(mean=[0.485, 0.456, 0.406], std=[0.229, 0.224, 0.225])])\n",
    "    image_tensor = transform(image)\n",
    "    return image, image_tensor"
   ]
  },
  {
   "cell_type": "code",
   "execution_count": 4,
   "metadata": {},
   "outputs": [],
   "source": [
    "import matplotlib.pyplot as plt\n",
    "import numpy as np\n",
    "\n",
    "def visualize_prediction(image, boxes, scores, labels, threshold=0.5):\n",
    "    draw_image = image.copy()\n",
    "    draw = ImageDraw.Draw(draw_image)\n",
    "    \n",
    "    filtered_boxes = []\n",
    "    filtered_scores = []\n",
    "    filtered_labels = []\n",
    "    \n",
    "    for box, score, label in zip(boxes, scores, labels):\n",
    "        if score >= threshold:\n",
    "            filtered_boxes.append(box)\n",
    "            filtered_scores.append(score)\n",
    "            filtered_labels.append(label)\n",
    "    \n",
    "    for box, score, label in zip(filtered_boxes, filtered_scores, filtered_labels):\n",
    "        x1, y1, x2, y2 = box\n",
    "        \n",
    "        draw.rectangle([(x1, y1), (x2, y2)], outline=\"red\", width=3)\n",
    "        \n",
    "        label_text = f\"Pistola: {score:.2f}\"\n",
    "        draw.text((x1, y1-15), label_text, fill=\"red\")\n",
    "    \n",
    "    plt.figure(figsize=(12, 8))\n",
    "    plt.imshow(np.array(draw_image))\n",
    "    plt.axis('off')\n",
    "    plt.show()\n",
    "    \n",
    "    return draw_image"
   ]
  },
  {
   "cell_type": "code",
   "execution_count": 5,
   "metadata": {},
   "outputs": [],
   "source": [
    "def detect_guns(image_path, confidence_threshold=0.5):\n",
    "    original_image, image_tensor = load_image(image_path)\n",
    "    \n",
    "    with torch.no_grad():\n",
    "        prediction = model([image_tensor.to(device)])\n",
    "    \n",
    "    boxes = prediction[0]['boxes'].cpu().numpy()\n",
    "    scores = prediction[0]['scores'].cpu().numpy()\n",
    "    labels = prediction[0]['labels'].cpu().numpy()\n",
    "    \n",
    "    keep_indices = apply_nms(torch.tensor(boxes), torch.tensor(scores), iou_threshold=0.2)\n",
    "    \n",
    "    boxes = boxes[keep_indices]\n",
    "    scores = scores[keep_indices]\n",
    "    labels = labels[keep_indices]\n",
    "    \n",
    "    result_image = visualize_prediction(original_image, boxes, scores, labels, confidence_threshold)\n",
    "    \n",
    "    return {\n",
    "        'boxes': boxes,\n",
    "        'scores': scores,\n",
    "        'labels': labels,\n",
    "        'result_image': result_image\n",
    "    }"
   ]
  },
  {
   "cell_type": "code",
   "execution_count": null,
   "metadata": {},
   "outputs": [],
   "source": [
    "if __name__ == \"__main__\":\n",
    "    test_images = os.listdir(\"../Dataset/fasterrcnn/test\")\n",
    "    test_images = [os.path.join(\"../Dataset/fasterrcnn/test\", image) for image in test_images]\n",
    "    guns_detected = 0\n",
    "    \n",
    "    for image_path in test_images:\n",
    "        print(f\"Esecuzione rilevamento armi su: {image_path}\")\n",
    "        results = detect_guns(image_path, confidence_threshold=0.6)\n",
    "        guns_detected += sum(1 for score in results['scores'] if score >= 0.6)\n",
    "        \n",
    "    print(f\"Armi rilevate: {guns_detected}\")"
   ]
  }
 ],
 "metadata": {
  "kernelspec": {
   "display_name": "Python 3",
   "language": "python",
   "name": "python3"
  },
  "language_info": {
   "codemirror_mode": {
    "name": "ipython",
    "version": 3
   },
   "file_extension": ".py",
   "mimetype": "text/x-python",
   "name": "python",
   "nbconvert_exporter": "python",
   "pygments_lexer": "ipython3",
   "version": "3.12.9"
  }
 },
 "nbformat": 4,
 "nbformat_minor": 2
}
