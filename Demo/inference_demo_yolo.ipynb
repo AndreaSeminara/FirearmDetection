{
 "cells": [
  {
   "cell_type": "code",
   "execution_count": null,
   "metadata": {},
   "outputs": [],
   "source": [
    "import os\n",
    "from ultralytics import YOLO\n",
    "\n",
    "model_path = '../Models/best_model_yolo.pt'\n",
    "model = YOLO(model_path)\n",
    "\n",
    "print(f\"Modello caricato da: {model_path}\")"
   ]
  },
  {
   "cell_type": "code",
   "execution_count": 2,
   "metadata": {},
   "outputs": [],
   "source": [
    "import cv2\n",
    "\n",
    "def predict_webcam(camera_id=0, conf_threshold=0.3):\n",
    "    \"\"\"\n",
    "    Esegue l'inferenza in tempo reale utilizzando la webcam\n",
    "    \n",
    "    Args:\n",
    "        camera_id: ID della webcam (di solito 0 per la webcam integrata)\n",
    "        conf_threshold: Soglia di confidenza per le predizioni\n",
    "    \"\"\"\n",
    "    \n",
    "    cap = cv2.VideoCapture(camera_id)\n",
    "    \n",
    "    if not cap.isOpened():\n",
    "        print(f\"Errore nell'apertura della webcam con ID: {camera_id}\")\n",
    "        return\n",
    "    \n",
    "    print(\"Inferenza in tempo reale avviata. Premi 'q' per uscire.\")\n",
    "    \n",
    "    while True:\n",
    "        ret, frame = cap.read()\n",
    "        if not ret:\n",
    "            break\n",
    "        \n",
    "        results = model(frame, conf=conf_threshold)\n",
    "        result_frame = results[0].plot()\n",
    "        \n",
    "        cv2.imshow('Rilevamento Pistole in Tempo Reale', result_frame)\n",
    "        \n",
    "        # Esci se viene premuto 'q'\n",
    "        if cv2.waitKey(1) & 0xFF == ord('q'):\n",
    "            break\n",
    "    \n",
    "    cap.release()\n",
    "    cv2.destroyAllWindows()\n",
    "    \n",
    "    print(\"Inferenza in tempo reale terminata.\")"
   ]
  },
  {
   "cell_type": "code",
   "execution_count": 3,
   "metadata": {},
   "outputs": [],
   "source": [
    "import matplotlib.pyplot as plt\n",
    "\n",
    "def predict_folder(folder_path, conf_threshold=0.3):\n",
    "    \"\"\"\n",
    "    Esegue l'inferenza su tutte le immagini in una cartella e mostra i risultati\n",
    "    \n",
    "    Args:\n",
    "        folder_path: Percorso della cartella contenente le immagini\n",
    "        conf_threshold: Soglia di confidenza per le predizioni\n",
    "    \"\"\"\n",
    "    valid_extensions = ('.jpg', '.jpeg', '.png', '.bmp')\n",
    "    \n",
    "    image_files = [f for f in os.listdir(folder_path) if f.lower().endswith(valid_extensions)]\n",
    "    \n",
    "    if not image_files:\n",
    "        print(f\"Nessuna immagine trovata in: {folder_path}\")\n",
    "        return\n",
    "    \n",
    "    print(f\"Trovate {len(image_files)} immagini. Inizio inferenza...\\n\")\n",
    "    \n",
    "    for img_file in image_files:\n",
    "        img_path = os.path.join(folder_path, img_file)\n",
    "        \n",
    "        img = cv2.imread(img_path)\n",
    "        results = model(img, conf=conf_threshold, verbose=False)\n",
    "        result_img = results[0].plot()\n",
    "        \n",
    "        result_img = cv2.cvtColor(result_img, cv2.COLOR_BGR2RGB)\n",
    "        \n",
    "        plt.figure(figsize=(10, 8))\n",
    "        plt.imshow(result_img)\n",
    "        plt.title(f'Predizione - {img_file}')\n",
    "        plt.axis('off')\n",
    "        plt.show()\n",
    "        \n",
    "        boxes = results[0].boxes\n",
    "        if len(boxes) > 0:\n",
    "            for box in boxes:\n",
    "                conf = box.conf.item()\n",
    "                print(f\"- Rilevamento con confidenza: {conf:.2f}\")\n",
    "        else:\n",
    "            print(\"- Nessun rilevamento\")\n",
    "        print()\n",
    "    \n",
    "    print(\"Inferenza completata.\")"
   ]
  },
  {
   "cell_type": "code",
   "execution_count": null,
   "metadata": {},
   "outputs": [],
   "source": [
    "predict_folder(folder_path='demo_images', conf_threshold=0.5)\n",
    "predict_webcam(camera_id=0, conf_threshold=0.5)"
   ]
  }
 ],
 "metadata": {
  "kernelspec": {
   "display_name": "Python 3",
   "language": "python",
   "name": "python3"
  },
  "language_info": {
   "codemirror_mode": {
    "name": "ipython",
    "version": 3
   },
   "file_extension": ".py",
   "mimetype": "text/x-python",
   "name": "python",
   "nbconvert_exporter": "python",
   "pygments_lexer": "ipython3",
   "version": "3.12.9"
  }
 },
 "nbformat": 4,
 "nbformat_minor": 2
}
